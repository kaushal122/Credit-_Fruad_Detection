{
 "cells": [
  {
   "cell_type": "markdown",
   "id": "9ac1aed8",
   "metadata": {},
   "source": [
    "# Data Cleaning notebook"
   ]
  },
  {
   "cell_type": "code",
   "execution_count": 9,
   "id": "15849693",
   "metadata": {},
   "outputs": [],
   "source": [
    "import pandas as pd\n",
    "import numpy as np\n",
    "import nltk\n",
    "from nltk.corpus import stopwords\n",
    "from nltk.tokenize import word_tokenize"
   ]
  },
  {
   "cell_type": "code",
   "execution_count": 10,
   "id": "d6e9ee06",
   "metadata": {},
   "outputs": [],
   "source": [
    "data = pd.read_csv('Raw_Skills_Dataset.csv')"
   ]
  },
  {
   "cell_type": "code",
   "execution_count": 11,
   "id": "16262ce8",
   "metadata": {},
   "outputs": [
    {
     "data": {
      "text/html": [
       "<div>\n",
       "<style scoped>\n",
       "    .dataframe tbody tr th:only-of-type {\n",
       "        vertical-align: middle;\n",
       "    }\n",
       "\n",
       "    .dataframe tbody tr th {\n",
       "        vertical-align: top;\n",
       "    }\n",
       "\n",
       "    .dataframe thead th {\n",
       "        text-align: right;\n",
       "    }\n",
       "</style>\n",
       "<table border=\"1\" class=\"dataframe\">\n",
       "  <thead>\n",
       "    <tr style=\"text-align: right;\">\n",
       "      <th></th>\n",
       "      <th>RAW DATA</th>\n",
       "    </tr>\n",
       "  </thead>\n",
       "  <tbody>\n",
       "    <tr>\n",
       "      <th>0</th>\n",
       "      <td>What ifs</td>\n",
       "    </tr>\n",
       "    <tr>\n",
       "      <th>1</th>\n",
       "      <td>seniority</td>\n",
       "    </tr>\n",
       "    <tr>\n",
       "      <th>2</th>\n",
       "      <td>familiarity</td>\n",
       "    </tr>\n",
       "    <tr>\n",
       "      <th>3</th>\n",
       "      <td>functionalities</td>\n",
       "    </tr>\n",
       "    <tr>\n",
       "      <th>4</th>\n",
       "      <td>Lambdas</td>\n",
       "    </tr>\n",
       "    <tr>\n",
       "      <th>...</th>\n",
       "      <td>...</td>\n",
       "    </tr>\n",
       "    <tr>\n",
       "      <th>34111</th>\n",
       "      <td>negotiation</td>\n",
       "    </tr>\n",
       "    <tr>\n",
       "      <th>34112</th>\n",
       "      <td>deadlines</td>\n",
       "    </tr>\n",
       "    <tr>\n",
       "      <th>34113</th>\n",
       "      <td>Self-motivated, enthusiastic and strong drive</td>\n",
       "    </tr>\n",
       "    <tr>\n",
       "      <th>34114</th>\n",
       "      <td>negotiation</td>\n",
       "    </tr>\n",
       "    <tr>\n",
       "      <th>34115</th>\n",
       "      <td>deadlines</td>\n",
       "    </tr>\n",
       "  </tbody>\n",
       "</table>\n",
       "<p>34116 rows × 1 columns</p>\n",
       "</div>"
      ],
      "text/plain": [
       "                                            RAW DATA\n",
       "0                                           What ifs\n",
       "1                                          seniority\n",
       "2                                        familiarity\n",
       "3                                    functionalities\n",
       "4                                            Lambdas\n",
       "...                                              ...\n",
       "34111                                    negotiation\n",
       "34112                                      deadlines\n",
       "34113  Self-motivated, enthusiastic and strong drive\n",
       "34114                                    negotiation\n",
       "34115                                      deadlines\n",
       "\n",
       "[34116 rows x 1 columns]"
      ]
     },
     "execution_count": 11,
     "metadata": {},
     "output_type": "execute_result"
    }
   ],
   "source": [
    "data"
   ]
  },
  {
   "cell_type": "code",
   "execution_count": 12,
   "id": "29074035",
   "metadata": {},
   "outputs": [
    {
     "data": {
      "text/plain": [
       "RAW DATA                    \n",
       "Python                          272\n",
       "AWS                             239\n",
       "JavaScript                      220\n",
       "Kubernetes                      180\n",
       "Familiarity                     172\n",
       "                               ... \n",
       "SDLC compliance                   1\n",
       "SDRG                              1\n",
       "SDTM specifications document      1\n",
       "SEITs                             1\n",
       "🏗                                 1\n",
       "Length: 15677, dtype: int64"
      ]
     },
     "execution_count": 12,
     "metadata": {},
     "output_type": "execute_result"
    }
   ],
   "source": [
    "data.value_counts()"
   ]
  },
  {
   "cell_type": "code",
   "execution_count": null,
   "id": "27d3b6bb",
   "metadata": {},
   "outputs": [],
   "source": []
  },
  {
   "cell_type": "code",
   "execution_count": 13,
   "id": "91aa8352",
   "metadata": {},
   "outputs": [],
   "source": [
    "stop_words = set(stopwords.words('english'))"
   ]
  },
  {
   "cell_type": "markdown",
   "id": "ad7eeb31",
   "metadata": {},
   "source": [
    "## 1. Removing stopwords "
   ]
  },
  {
   "cell_type": "code",
   "execution_count": 14,
   "id": "86096b26",
   "metadata": {},
   "outputs": [],
   "source": [
    "#removing stopwords\n",
    "sent=[]\n",
    "s=\"\"\n",
    "for i in range(len(data)):\n",
    "    words = word_tokenize(str(data.iloc[i].values[0]))\n",
    "    s=\"\"\n",
    "    for j in words:\n",
    "        if j.lower() not in stop_words:\n",
    "            s=s+\" \"+j\n",
    "    sent.append(s.strip())\n",
    "\n",
    "#Sent "
   ]
  },
  {
   "cell_type": "markdown",
   "id": "4486530a",
   "metadata": {},
   "source": [
    "## 2. Replacing several irrelevant puntuations "
   ]
  },
  {
   "cell_type": "code",
   "execution_count": 15,
   "id": "8d137e7a",
   "metadata": {},
   "outputs": [],
   "source": [
    "for i in range(len(sent)):\n",
    "    sent[i]=sent[i].replace('.','').replace('e.g','').\\\n",
    "                    replace(':','').replace('- ','-').\\\n",
    "                    replace('( ','(').replace(' )',')').\\\n",
    "                    replace('  ',' ').replace(', ',',').replace('Etc','').\\\n",
    "                    replace(' ,',',').replace(' /','/').replace('etc.','').\\\n",
    "                    replace('/ ','/').replace('eg ','').\\\n",
    "                    replace('ie ','').replace(' i.e','').replace('Eg',' ').replace('Ie','').strip().strip(\"\"\"'(,.\\-\"'\"\"\")\n"
   ]
  },
  {
   "cell_type": "code",
   "execution_count": null,
   "id": "b1bc8ec6",
   "metadata": {},
   "outputs": [],
   "source": []
  },
  {
   "cell_type": "code",
   "execution_count": 16,
   "id": "dee4d826",
   "metadata": {},
   "outputs": [],
   "source": [
    "#making first word of each data point capital\n",
    "for i in range(len(data)):\n",
    "    st=sent[i]\n",
    "    if st!='':\n",
    "        st = st.replace(st[0],st[0].upper(),1)\n",
    "        sent[i]=st\n",
    "#sent"
   ]
  },
  {
   "cell_type": "markdown",
   "id": "6cb3dcf8",
   "metadata": {},
   "source": [
    "## 3. Creating dataframe for result "
   ]
  },
  {
   "cell_type": "code",
   "execution_count": 17,
   "id": "e34c53a2",
   "metadata": {},
   "outputs": [],
   "source": [
    "df = pd.DataFrame(sent,columns=['Technology Skills'])"
   ]
  },
  {
   "cell_type": "code",
   "execution_count": 18,
   "id": "651f10db",
   "metadata": {},
   "outputs": [
    {
     "data": {
      "text/html": [
       "<div>\n",
       "<style scoped>\n",
       "    .dataframe tbody tr th:only-of-type {\n",
       "        vertical-align: middle;\n",
       "    }\n",
       "\n",
       "    .dataframe tbody tr th {\n",
       "        vertical-align: top;\n",
       "    }\n",
       "\n",
       "    .dataframe thead th {\n",
       "        text-align: right;\n",
       "    }\n",
       "</style>\n",
       "<table border=\"1\" class=\"dataframe\">\n",
       "  <thead>\n",
       "    <tr style=\"text-align: right;\">\n",
       "      <th></th>\n",
       "      <th>Technology Skills</th>\n",
       "    </tr>\n",
       "  </thead>\n",
       "  <tbody>\n",
       "    <tr>\n",
       "      <th>0</th>\n",
       "      <td>Ifs</td>\n",
       "    </tr>\n",
       "    <tr>\n",
       "      <th>1</th>\n",
       "      <td>Seniority</td>\n",
       "    </tr>\n",
       "    <tr>\n",
       "      <th>2</th>\n",
       "      <td>Familiarity</td>\n",
       "    </tr>\n",
       "    <tr>\n",
       "      <th>3</th>\n",
       "      <td>Functionalities</td>\n",
       "    </tr>\n",
       "    <tr>\n",
       "      <th>4</th>\n",
       "      <td>Lambdas</td>\n",
       "    </tr>\n",
       "    <tr>\n",
       "      <th>...</th>\n",
       "      <td>...</td>\n",
       "    </tr>\n",
       "    <tr>\n",
       "      <th>34111</th>\n",
       "      <td>Negotiation</td>\n",
       "    </tr>\n",
       "    <tr>\n",
       "      <th>34112</th>\n",
       "      <td>Deadlines</td>\n",
       "    </tr>\n",
       "    <tr>\n",
       "      <th>34113</th>\n",
       "      <td>Self-motivated,enthusiastic strong drive</td>\n",
       "    </tr>\n",
       "    <tr>\n",
       "      <th>34114</th>\n",
       "      <td>Negotiation</td>\n",
       "    </tr>\n",
       "    <tr>\n",
       "      <th>34115</th>\n",
       "      <td>Deadlines</td>\n",
       "    </tr>\n",
       "  </tbody>\n",
       "</table>\n",
       "<p>34116 rows × 1 columns</p>\n",
       "</div>"
      ],
      "text/plain": [
       "                              Technology Skills\n",
       "0                                           Ifs\n",
       "1                                     Seniority\n",
       "2                                   Familiarity\n",
       "3                               Functionalities\n",
       "4                                       Lambdas\n",
       "...                                         ...\n",
       "34111                               Negotiation\n",
       "34112                                 Deadlines\n",
       "34113  Self-motivated,enthusiastic strong drive\n",
       "34114                               Negotiation\n",
       "34115                                 Deadlines\n",
       "\n",
       "[34116 rows x 1 columns]"
      ]
     },
     "execution_count": 18,
     "metadata": {},
     "output_type": "execute_result"
    }
   ],
   "source": [
    "df"
   ]
  },
  {
   "cell_type": "code",
   "execution_count": 19,
   "id": "0eeb4548",
   "metadata": {},
   "outputs": [
    {
     "data": {
      "text/plain": [
       "Technology Skills               \n",
       "Python                              318\n",
       "AWS                                 256\n",
       "JavaScript                          221\n",
       "Familiarity                         221\n",
       "Kubernetes                          196\n",
       "                                   ... \n",
       "Firmware functionality                1\n",
       "Firmware operation                    1\n",
       "Firmware software requirements        1\n",
       "Firmware/software QA Development      1\n",
       "🏗                                     1\n",
       "Length: 14502, dtype: int64"
      ]
     },
     "execution_count": 19,
     "metadata": {},
     "output_type": "execute_result"
    }
   ],
   "source": [
    "df.value_counts()"
   ]
  },
  {
   "cell_type": "code",
   "execution_count": 20,
   "id": "96c04f50",
   "metadata": {
    "scrolled": true
   },
   "outputs": [
    {
     "data": {
      "text/plain": [
       "Technology Skills                      \n",
       "Python                                     318\n",
       "AWS                                        256\n",
       "JavaScript                                 221\n",
       "Familiarity                                221\n",
       "Kubernetes                                 196\n",
       "                                          ... \n",
       "Backend software engineering experience     11\n",
       "Better scalability                          11\n",
       "Quality assurance                           11\n",
       "Automated deployment pipelines              11\n",
       "Threat modeling                             11\n",
       "Length: 453, dtype: int64"
      ]
     },
     "execution_count": 20,
     "metadata": {},
     "output_type": "execute_result"
    }
   ],
   "source": [
    "df.value_counts()[df.value_counts()>10]"
   ]
  },
  {
   "cell_type": "code",
   "execution_count": null,
   "id": "86feb4fd",
   "metadata": {},
   "outputs": [],
   "source": []
  },
  {
   "cell_type": "code",
   "execution_count": 21,
   "id": "db704a5b",
   "metadata": {},
   "outputs": [],
   "source": [
    "#making list of some irrelevant datapoint\n",
    "words_to_delete=['Familiarity','Visibility','Team mates','Observability','Deliverables','Deadlines','Documentation','Mentor','Willingness','Frameworks','Protocols','● Experience','Large dataset','Schedules','Fluency','Seniority','Negotiation','Functionalities','Self-motivated,enthusiastic strong drive']"
   ]
  },
  {
   "cell_type": "code",
   "execution_count": 22,
   "id": "955ff1f3",
   "metadata": {},
   "outputs": [],
   "source": [
    "#removing duplicates\n",
    "df.drop_duplicates(keep='first',inplace=True)\n"
   ]
  },
  {
   "cell_type": "code",
   "execution_count": 23,
   "id": "0e66d445",
   "metadata": {},
   "outputs": [
    {
     "data": {
      "text/html": [
       "<div>\n",
       "<style scoped>\n",
       "    .dataframe tbody tr th:only-of-type {\n",
       "        vertical-align: middle;\n",
       "    }\n",
       "\n",
       "    .dataframe tbody tr th {\n",
       "        vertical-align: top;\n",
       "    }\n",
       "\n",
       "    .dataframe thead th {\n",
       "        text-align: right;\n",
       "    }\n",
       "</style>\n",
       "<table border=\"1\" class=\"dataframe\">\n",
       "  <thead>\n",
       "    <tr style=\"text-align: right;\">\n",
       "      <th></th>\n",
       "      <th>Technology Skills</th>\n",
       "    </tr>\n",
       "  </thead>\n",
       "  <tbody>\n",
       "    <tr>\n",
       "      <th>0</th>\n",
       "      <td>Ifs</td>\n",
       "    </tr>\n",
       "    <tr>\n",
       "      <th>1</th>\n",
       "      <td>Seniority</td>\n",
       "    </tr>\n",
       "    <tr>\n",
       "      <th>2</th>\n",
       "      <td>Familiarity</td>\n",
       "    </tr>\n",
       "    <tr>\n",
       "      <th>3</th>\n",
       "      <td>Functionalities</td>\n",
       "    </tr>\n",
       "    <tr>\n",
       "      <th>4</th>\n",
       "      <td>Lambdas</td>\n",
       "    </tr>\n",
       "    <tr>\n",
       "      <th>...</th>\n",
       "      <td>...</td>\n",
       "    </tr>\n",
       "    <tr>\n",
       "      <th>14497</th>\n",
       "      <td>Telecom product</td>\n",
       "    </tr>\n",
       "    <tr>\n",
       "      <th>14498</th>\n",
       "      <td>Leadership qualities</td>\n",
       "    </tr>\n",
       "    <tr>\n",
       "      <th>14499</th>\n",
       "      <td>Actalent</td>\n",
       "    </tr>\n",
       "    <tr>\n",
       "      <th>14500</th>\n",
       "      <td>Self-motivated,enthusiastic strong drive</td>\n",
       "    </tr>\n",
       "    <tr>\n",
       "      <th>14501</th>\n",
       "      <td>Negotiation</td>\n",
       "    </tr>\n",
       "  </tbody>\n",
       "</table>\n",
       "<p>14502 rows × 1 columns</p>\n",
       "</div>"
      ],
      "text/plain": [
       "                              Technology Skills\n",
       "0                                           Ifs\n",
       "1                                     Seniority\n",
       "2                                   Familiarity\n",
       "3                               Functionalities\n",
       "4                                       Lambdas\n",
       "...                                         ...\n",
       "14497                           Telecom product\n",
       "14498                      Leadership qualities\n",
       "14499                                  Actalent\n",
       "14500  Self-motivated,enthusiastic strong drive\n",
       "14501                               Negotiation\n",
       "\n",
       "[14502 rows x 1 columns]"
      ]
     },
     "execution_count": 23,
     "metadata": {},
     "output_type": "execute_result"
    }
   ],
   "source": [
    "df.reset_index(drop=True,inplace=True)\n",
    "df"
   ]
  },
  {
   "cell_type": "code",
   "execution_count": 24,
   "id": "21590f45",
   "metadata": {},
   "outputs": [],
   "source": [
    "\n",
    "invalid_data_index=[]\n",
    "for i in range(len(df)):\n",
    "    if df.iloc[i].values[0] in  words_to_delete:\n",
    "        invalid_data_index.append(i)"
   ]
  },
  {
   "cell_type": "code",
   "execution_count": 25,
   "id": "7c68a2ff",
   "metadata": {},
   "outputs": [
    {
     "name": "stdout",
     "output_type": "stream",
     "text": [
      "\n",
      "#\n",
      "+\n",
      "﻿\n",
      "Ø\n",
      "\n",
      "∙\n",
      "❤\n",
      "🏗\n"
     ]
    },
    {
     "data": {
      "text/plain": [
       "[1,\n",
       " 2,\n",
       " 3,\n",
       " 21,\n",
       " 225,\n",
       " 237,\n",
       " 344,\n",
       " 410,\n",
       " 511,\n",
       " 534,\n",
       " 580,\n",
       " 1163,\n",
       " 1242,\n",
       " 1250,\n",
       " 1253,\n",
       " 1559,\n",
       " 8266,\n",
       " 14500,\n",
       " 14501,\n",
       " 188,\n",
       " 1103,\n",
       " 2673,\n",
       " 4544,\n",
       " 4655,\n",
       " 7929,\n",
       " 8810,\n",
       " 9219,\n",
       " 13330]"
      ]
     },
     "execution_count": 25,
     "metadata": {},
     "output_type": "execute_result"
    }
   ],
   "source": [
    "#removing irrelevant datapoint \n",
    "for i in range(len(df)):\n",
    "    if len(df.iloc[i].values[0])==1 or len(df.iloc[i].values[0])==0:\n",
    "        print(df.iloc[i].values[0])\n",
    "        invalid_data_index.append(i)\n",
    "invalid_data_index"
   ]
  },
  {
   "cell_type": "code",
   "execution_count": 26,
   "id": "742c2333",
   "metadata": {},
   "outputs": [],
   "source": [
    "for i in invalid_data_index:\n",
    "    df.drop(i,inplace=True)"
   ]
  },
  {
   "cell_type": "code",
   "execution_count": 27,
   "id": "e984f674",
   "metadata": {},
   "outputs": [
    {
     "data": {
      "text/plain": [
       "Technology Skills                                                      \n",
       "# # ENG                                                                    1\n",
       "Persuasion                                                                 1\n",
       "Performant software                                                        1\n",
       "Performant solutions                                                       1\n",
       "Performant,scalable resilient applications                                 1\n",
       "                                                                          ..\n",
       "Enterprise Architecture roles                                              1\n",
       "Enterprise Class Financial application web portals                         1\n",
       "Enterprise Cloud computing                                                 1\n",
       "Enterprise Customer Care (ECC) Professional Services (PS) business unit    1\n",
       "﻿Tier 1 Educational Background Preferred -IIT/NIT/DTU                      1\n",
       "Length: 14474, dtype: int64"
      ]
     },
     "execution_count": 27,
     "metadata": {},
     "output_type": "execute_result"
    }
   ],
   "source": [
    "df.value_counts()"
   ]
  },
  {
   "cell_type": "code",
   "execution_count": 28,
   "id": "f2462cdb",
   "metadata": {},
   "outputs": [],
   "source": [
    "df.reset_index(drop=True,inplace=True)"
   ]
  },
  {
   "cell_type": "code",
   "execution_count": 29,
   "id": "0fe350e3",
   "metadata": {},
   "outputs": [
    {
     "data": {
      "text/html": [
       "<div>\n",
       "<style scoped>\n",
       "    .dataframe tbody tr th:only-of-type {\n",
       "        vertical-align: middle;\n",
       "    }\n",
       "\n",
       "    .dataframe tbody tr th {\n",
       "        vertical-align: top;\n",
       "    }\n",
       "\n",
       "    .dataframe thead th {\n",
       "        text-align: right;\n",
       "    }\n",
       "</style>\n",
       "<table border=\"1\" class=\"dataframe\">\n",
       "  <thead>\n",
       "    <tr style=\"text-align: right;\">\n",
       "      <th></th>\n",
       "      <th>Technology Skills</th>\n",
       "    </tr>\n",
       "  </thead>\n",
       "  <tbody>\n",
       "    <tr>\n",
       "      <th>0</th>\n",
       "      <td>Ifs</td>\n",
       "    </tr>\n",
       "    <tr>\n",
       "      <th>1</th>\n",
       "      <td>Lambdas</td>\n",
       "    </tr>\n",
       "    <tr>\n",
       "      <th>2</th>\n",
       "      <td>Java Streams</td>\n",
       "    </tr>\n",
       "    <tr>\n",
       "      <th>3</th>\n",
       "      <td>Object Oriented analysis</td>\n",
       "    </tr>\n",
       "    <tr>\n",
       "      <th>4</th>\n",
       "      <td>Relational Databases</td>\n",
       "    </tr>\n",
       "    <tr>\n",
       "      <th>...</th>\n",
       "      <td>...</td>\n",
       "    </tr>\n",
       "    <tr>\n",
       "      <th>14469</th>\n",
       "      <td>Underlying transceiver code software</td>\n",
       "    </tr>\n",
       "    <tr>\n",
       "      <th>14470</th>\n",
       "      <td>C/embedded software</td>\n",
       "    </tr>\n",
       "    <tr>\n",
       "      <th>14471</th>\n",
       "      <td>Telecom product</td>\n",
       "    </tr>\n",
       "    <tr>\n",
       "      <th>14472</th>\n",
       "      <td>Leadership qualities</td>\n",
       "    </tr>\n",
       "    <tr>\n",
       "      <th>14473</th>\n",
       "      <td>Actalent</td>\n",
       "    </tr>\n",
       "  </tbody>\n",
       "</table>\n",
       "<p>14474 rows × 1 columns</p>\n",
       "</div>"
      ],
      "text/plain": [
       "                          Technology Skills\n",
       "0                                       Ifs\n",
       "1                                   Lambdas\n",
       "2                              Java Streams\n",
       "3                  Object Oriented analysis\n",
       "4                      Relational Databases\n",
       "...                                     ...\n",
       "14469  Underlying transceiver code software\n",
       "14470                   C/embedded software\n",
       "14471                       Telecom product\n",
       "14472                  Leadership qualities\n",
       "14473                              Actalent\n",
       "\n",
       "[14474 rows x 1 columns]"
      ]
     },
     "execution_count": 29,
     "metadata": {},
     "output_type": "execute_result"
    }
   ],
   "source": [
    "df"
   ]
  },
  {
   "cell_type": "code",
   "execution_count": 30,
   "id": "2115704f",
   "metadata": {},
   "outputs": [],
   "source": [
    "df.to_csv('Cleaned_Data.csv',index=False)\n"
   ]
  },
  {
   "cell_type": "code",
   "execution_count": null,
   "id": "a4c9d174",
   "metadata": {},
   "outputs": [],
   "source": []
  }
 ],
 "metadata": {
  "kernelspec": {
   "display_name": "Python 3",
   "language": "python",
   "name": "python3"
  },
  "language_info": {
   "codemirror_mode": {
    "name": "ipython",
    "version": 3
   },
   "file_extension": ".py",
   "mimetype": "text/x-python",
   "name": "python",
   "nbconvert_exporter": "python",
   "pygments_lexer": "ipython3",
   "version": "3.10.2"
  }
 },
 "nbformat": 4,
 "nbformat_minor": 5
}
